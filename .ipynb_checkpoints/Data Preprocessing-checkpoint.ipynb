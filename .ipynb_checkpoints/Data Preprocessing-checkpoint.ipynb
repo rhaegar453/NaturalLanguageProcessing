{
 "cells": [
  {
   "cell_type": "markdown",
   "metadata": {},
   "source": [
    "# Data Preprocessing "
   ]
  },
  {
   "cell_type": "markdown",
   "metadata": {},
   "source": [
    "## Importing the libraries"
   ]
  },
  {
   "cell_type": "code",
   "execution_count": 39,
   "metadata": {},
   "outputs": [],
   "source": [
    "import string\n",
    "import re\n",
    "from nltk.tokenize import word_tokenize\n",
    "from nltk.corpus import stopwords"
   ]
  },
  {
   "cell_type": "code",
   "execution_count": 40,
   "metadata": {},
   "outputs": [],
   "source": [
    "filename='./pg5200.txt'\n",
    "file=open(filename,'rt')\n",
    "text=file.read()\n",
    "file.close()"
   ]
  },
  {
   "cell_type": "markdown",
   "metadata": {},
   "source": [
    "### Splitting the text corpus into words"
   ]
  },
  {
   "cell_type": "code",
   "execution_count": 41,
   "metadata": {},
   "outputs": [],
   "source": [
    "tokens=word_tokenize(text)"
   ]
  },
  {
   "cell_type": "markdown",
   "metadata": {},
   "source": [
    "### Converting the text to lowercase"
   ]
  },
  {
   "cell_type": "code",
   "execution_count": 42,
   "metadata": {},
   "outputs": [],
   "source": [
    "token=[w.lower() for w in tokens]"
   ]
  },
  {
   "cell_type": "markdown",
   "metadata": {},
   "source": [
    "### Removing the punctuation characters in our data"
   ]
  },
  {
   "cell_type": "code",
   "execution_count": 43,
   "metadata": {},
   "outputs": [],
   "source": [
    "re_punc=re.compile('[%s]' % re.escape(string.punctuation))"
   ]
  },
  {
   "cell_type": "markdown",
   "metadata": {},
   "source": [
    "### Removing punctions inside of words that contain punctions which is not taken care of above"
   ]
  },
  {
   "cell_type": "code",
   "execution_count": 44,
   "metadata": {},
   "outputs": [],
   "source": [
    "stripped=[re_punc.sub('',w) for w in tokens]"
   ]
  },
  {
   "cell_type": "markdown",
   "metadata": {},
   "source": [
    "### Removing the words that are not alphabetic "
   ]
  },
  {
   "cell_type": "code",
   "execution_count": 45,
   "metadata": {},
   "outputs": [],
   "source": [
    "words=[word for word in stripped if word.isalpha()]"
   ]
  },
  {
   "cell_type": "markdown",
   "metadata": {},
   "source": [
    "### Removing stop words"
   ]
  },
  {
   "cell_type": "code",
   "execution_count": 46,
   "metadata": {},
   "outputs": [
    {
     "name": "stdout",
     "output_type": "stream",
     "text": [
      "['ï', 'Project', 'Gutenberg', 'EBook', 'Metamorphosis', 'Franz', 'Kafka', 'Translated', 'David', 'Wyllie', 'This', 'eBook', 'use', 'anyone', 'anywhere', 'cost', 'almost', 'restrictions', 'whatsoever', 'You', 'may', 'copy', 'give', 'away', 'reuse', 'terms', 'Project', 'Gutenberg', 'License', 'included', 'eBook', 'online', 'wwwgutenbergnet', 'This', 'COPYRIGHTED', 'Project', 'Gutenberg', 'eBook', 'Details', 'Below', 'Please', 'follow', 'copyright', 'guidelines', 'file', 'Title', 'Metamorphosis', 'Author', 'Franz', 'Kafka', 'Translator', 'David', 'Wyllie', 'Release', 'Date', 'August', 'EBook', 'First', 'posted', 'May', 'Last', 'updated', 'May', 'Language', 'English', 'START', 'OF', 'THIS', 'PROJECT', 'GUTENBERG', 'EBOOK', 'METAMORPHOSIS', 'Copyright', 'C', 'David', 'Wyllie', 'Metamorphosis', 'Franz', 'Kafka', 'Translated', 'David', 'Wyllie', 'I', 'One', 'morning', 'Gregor', 'Samsa', 'woke', 'troubled', 'dreams', 'found', 'transformed', 'bed', 'horrible', 'vermin', 'He', 'lay', 'armourlike', 'back', 'lifted']\n"
     ]
    }
   ],
   "source": [
    "stop_words=set(stopwords.words('english'))\n",
    "words=[w for w in words if not w in stop_words]\n",
    "print(words[:100])"
   ]
  },
  {
   "cell_type": "code",
   "execution_count": 47,
   "metadata": {},
   "outputs": [],
   "source": [
    "words=[word.lower() for word in words]"
   ]
  },
  {
   "cell_type": "code",
   "execution_count": 48,
   "metadata": {},
   "outputs": [
    {
     "data": {
      "text/plain": [
       "['ï',\n",
       " 'project',\n",
       " 'gutenberg',\n",
       " 'ebook',\n",
       " 'metamorphosis',\n",
       " 'franz',\n",
       " 'kafka',\n",
       " 'translated',\n",
       " 'david',\n",
       " 'wyllie',\n",
       " 'this',\n",
       " 'ebook',\n",
       " 'use',\n",
       " 'anyone',\n",
       " 'anywhere',\n",
       " 'cost',\n",
       " 'almost',\n",
       " 'restrictions',\n",
       " 'whatsoever',\n",
       " 'you',\n",
       " 'may',\n",
       " 'copy',\n",
       " 'give',\n",
       " 'away',\n",
       " 'reuse',\n",
       " 'terms',\n",
       " 'project',\n",
       " 'gutenberg',\n",
       " 'license',\n",
       " 'included',\n",
       " 'ebook',\n",
       " 'online',\n",
       " 'wwwgutenbergnet',\n",
       " 'this',\n",
       " 'copyrighted',\n",
       " 'project',\n",
       " 'gutenberg',\n",
       " 'ebook',\n",
       " 'details',\n",
       " 'below',\n",
       " 'please',\n",
       " 'follow',\n",
       " 'copyright',\n",
       " 'guidelines',\n",
       " 'file',\n",
       " 'title',\n",
       " 'metamorphosis',\n",
       " 'author',\n",
       " 'franz',\n",
       " 'kafka',\n",
       " 'translator',\n",
       " 'david',\n",
       " 'wyllie',\n",
       " 'release',\n",
       " 'date',\n",
       " 'august',\n",
       " 'ebook',\n",
       " 'first',\n",
       " 'posted',\n",
       " 'may',\n",
       " 'last',\n",
       " 'updated',\n",
       " 'may',\n",
       " 'language',\n",
       " 'english',\n",
       " 'start',\n",
       " 'of',\n",
       " 'this',\n",
       " 'project',\n",
       " 'gutenberg',\n",
       " 'ebook',\n",
       " 'metamorphosis',\n",
       " 'copyright',\n",
       " 'c',\n",
       " 'david',\n",
       " 'wyllie',\n",
       " 'metamorphosis',\n",
       " 'franz',\n",
       " 'kafka',\n",
       " 'translated',\n",
       " 'david',\n",
       " 'wyllie',\n",
       " 'i',\n",
       " 'one',\n",
       " 'morning',\n",
       " 'gregor',\n",
       " 'samsa',\n",
       " 'woke',\n",
       " 'troubled',\n",
       " 'dreams',\n",
       " 'found',\n",
       " 'transformed',\n",
       " 'bed',\n",
       " 'horrible',\n",
       " 'vermin',\n",
       " 'he',\n",
       " 'lay',\n",
       " 'armourlike',\n",
       " 'back',\n",
       " 'lifted']"
      ]
     },
     "execution_count": 48,
     "metadata": {},
     "output_type": "execute_result"
    }
   ],
   "source": [
    "words[:100]"
   ]
  },
  {
   "cell_type": "markdown",
   "metadata": {},
   "source": [
    "## Stemming the words\n",
    "Stemming is the process of reducing each word to its root or base form. Example, fishing, fished, fisher all are reduced to fish. \n",
    "There are many stemming algorithms, but we are going to be using the Porter stemming algorithm. This is available in NLTK via the PorterStemmer class."
   ]
  },
  {
   "cell_type": "code",
   "execution_count": 49,
   "metadata": {},
   "outputs": [],
   "source": [
    "from nltk.stem.porter import PorterStemmer\n",
    "porter=PorterStemmer()\n",
    "stemmed=[porter.stem(word) for word in words] "
   ]
  },
  {
   "cell_type": "code",
   "execution_count": 50,
   "metadata": {},
   "outputs": [
    {
     "data": {
      "text/plain": [
       "['ï',\n",
       " 'project',\n",
       " 'gutenberg',\n",
       " 'ebook',\n",
       " 'metamorphosi',\n",
       " 'franz',\n",
       " 'kafka',\n",
       " 'translat',\n",
       " 'david',\n",
       " 'wylli',\n",
       " 'thi',\n",
       " 'ebook',\n",
       " 'use',\n",
       " 'anyon',\n",
       " 'anywher',\n",
       " 'cost',\n",
       " 'almost',\n",
       " 'restrict',\n",
       " 'whatsoev',\n",
       " 'you',\n",
       " 'may',\n",
       " 'copi',\n",
       " 'give',\n",
       " 'away',\n",
       " 'reus',\n",
       " 'term',\n",
       " 'project',\n",
       " 'gutenberg',\n",
       " 'licens',\n",
       " 'includ',\n",
       " 'ebook',\n",
       " 'onlin',\n",
       " 'wwwgutenbergnet',\n",
       " 'thi',\n",
       " 'copyright',\n",
       " 'project',\n",
       " 'gutenberg',\n",
       " 'ebook',\n",
       " 'detail',\n",
       " 'below',\n",
       " 'pleas',\n",
       " 'follow',\n",
       " 'copyright',\n",
       " 'guidelin',\n",
       " 'file',\n",
       " 'titl',\n",
       " 'metamorphosi',\n",
       " 'author',\n",
       " 'franz',\n",
       " 'kafka',\n",
       " 'translat',\n",
       " 'david',\n",
       " 'wylli',\n",
       " 'releas',\n",
       " 'date',\n",
       " 'august',\n",
       " 'ebook',\n",
       " 'first',\n",
       " 'post',\n",
       " 'may',\n",
       " 'last',\n",
       " 'updat',\n",
       " 'may',\n",
       " 'languag',\n",
       " 'english',\n",
       " 'start',\n",
       " 'of',\n",
       " 'thi',\n",
       " 'project',\n",
       " 'gutenberg',\n",
       " 'ebook',\n",
       " 'metamorphosi',\n",
       " 'copyright',\n",
       " 'c',\n",
       " 'david',\n",
       " 'wylli',\n",
       " 'metamorphosi',\n",
       " 'franz',\n",
       " 'kafka',\n",
       " 'translat',\n",
       " 'david',\n",
       " 'wylli',\n",
       " 'i',\n",
       " 'one',\n",
       " 'morn',\n",
       " 'gregor',\n",
       " 'samsa',\n",
       " 'woke',\n",
       " 'troubl',\n",
       " 'dream',\n",
       " 'found',\n",
       " 'transform',\n",
       " 'bed',\n",
       " 'horribl',\n",
       " 'vermin',\n",
       " 'he',\n",
       " 'lay',\n",
       " 'armourlik',\n",
       " 'back',\n",
       " 'lift']"
      ]
     },
     "execution_count": 50,
     "metadata": {},
     "output_type": "execute_result"
    }
   ],
   "source": [
    "stemmed[:100]"
   ]
  }
 ],
 "metadata": {
  "kernelspec": {
   "display_name": "Python 3",
   "language": "python",
   "name": "python3"
  },
  "language_info": {
   "codemirror_mode": {
    "name": "ipython",
    "version": 3
   },
   "file_extension": ".py",
   "mimetype": "text/x-python",
   "name": "python",
   "nbconvert_exporter": "python",
   "pygments_lexer": "ipython3",
   "version": "3.5.6"
  }
 },
 "nbformat": 4,
 "nbformat_minor": 2
}
