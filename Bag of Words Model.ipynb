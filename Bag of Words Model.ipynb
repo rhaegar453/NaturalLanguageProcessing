{
 "cells": [
  {
   "cell_type": "markdown",
   "metadata": {},
   "source": [
    "# Bag of Words Model\n",
    "A bag of words model is a way of extracting features from text for use in modeling, such as with machine learning algorithms.\n",
    "The approach is very simple and flexible an can be used in many ways for extracting features from documents.\n",
    "It involves two things\n",
    "\n",
    "1.  A vocabulary of known words\n",
    "2.  A measure of the presence of known words"
   ]
  },
  {
   "cell_type": "markdown",
   "metadata": {},
   "source": [
    "This model is not concerned with the sequence of words ,rather it is concerned with whether known words occur in the document.\n",
    "The intuition behind the bag of words model is that documents are similar if they have similar content. Further, that from the content alone we can learn something about the meaning of the document."
   ]
  },
  {
   "cell_type": "code",
   "execution_count": null,
   "metadata": {},
   "outputs": [],
   "source": []
  }
 ],
 "metadata": {
  "kernelspec": {
   "display_name": "Python 3",
   "language": "python",
   "name": "python3"
  },
  "language_info": {
   "codemirror_mode": {
    "name": "ipython",
    "version": 3
   },
   "file_extension": ".py",
   "mimetype": "text/x-python",
   "name": "python",
   "nbconvert_exporter": "python",
   "pygments_lexer": "ipython3",
   "version": "3.5.6"
  }
 },
 "nbformat": 4,
 "nbformat_minor": 2
}
